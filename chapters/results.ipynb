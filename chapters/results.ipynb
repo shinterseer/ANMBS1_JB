{
 "cells": [
  {
   "cell_type": "markdown",
   "id": "c27887e5",
   "metadata": {},
   "source": [
    "# Results and validation\n",
    "\n",
    "\n",
    "In this section the some results are shown by using the implemented class (see [section on implementation](implementation-header)). The forward integration will be done by using the library function `scipy.integrate.solve_ivp()`, which will allow to use all kinds of integrators (Runge-Kutta, Radau, ...).\n",
    "\n",
    "Both imbibition and drying will be shown here. In order to allow comparison with the results found in {cite}`A4`, the same material - a kind of autoclaved aerated concrete (AAC) - is being used:\n",
    "\n",
    "* free saturation: $w_{cap} = 350 \\,kg/m^3$\n",
    "* water vapor diffusion resistance factor: $\\mu = 6$\n",
    "* pore size: $r = 10^{-6} \\,m$,\n",
    "* free parameter: $n = 5$,\n",
    "* water intake coefficient: $A = 6 \\,kg / (m^2 \\sqrt h)$\n",
    "\n",
    "The shape of the specimen will be a cuboid a length of $0.1 \\,m$ and a (normalized) section area of $1 \\,m^2$."
   ]
  },
  {
   "cell_type": "code",
   "execution_count": 1,
   "id": "8393fe08",
   "metadata": {},
   "outputs": [],
   "source": [
    "import numpy as np\n",
    "from scipy.integrate import solve_ivp\n",
    "import matplotlib.pyplot as plt\n",
    "import matplotlib\n",
    "import time\n",
    "\n",
    "import one_d_problem_physics as opp\n"
   ]
  },
  {
   "cell_type": "markdown",
   "id": "e3593a8e",
   "metadata": {},
   "source": [
    "Setup matplotlib parameters for appropriately sized plots."
   ]
  },
  {
   "cell_type": "code",
   "execution_count": 2,
   "id": "d819f268",
   "metadata": {},
   "outputs": [],
   "source": [
    "plt.rcParams[\"figure.figsize\"] = (8,6)\n",
    "font = {'size'   : 14}\n",
    "matplotlib.rc('font', **font)"
   ]
  },
  {
   "cell_type": "markdown",
   "id": "98a63289",
   "metadata": {},
   "source": [
    "Global resolution (convenience for rendering)"
   ]
  },
  {
   "cell_type": "code",
   "execution_count": 3,
   "id": "500670c3",
   "metadata": {},
   "outputs": [],
   "source": [
    "res_g = 160"
   ]
  },
  {
   "cell_type": "markdown",
   "id": "a1d67daf",
   "metadata": {},
   "source": [
    "## Overview"
   ]
  },
  {
   "cell_type": "markdown",
   "id": "8821de82",
   "metadata": {},
   "source": [
    "### Problem setup"
   ]
  },
  {
   "cell_type": "code",
   "execution_count": 4,
   "id": "702a39bb",
   "metadata": {},
   "outputs": [],
   "source": [
    "my_problem = opp.one_d_problem(res=res_g, sim_time=48, material='AAC_A4_mod', init_w = 0, length=.1, w_west=1, w_east=0)\n",
    "\n",
    "my_problem.fluid_flow_west = True\n",
    "my_problem.fluid_flow_east = False\n",
    "my_problem.vapour_flow_west = False\n",
    "my_problem.vapour_flow_east = False\n",
    "\n",
    "my_problem.liquid_conduction = True\n",
    "my_problem.vapour_diffusion = True\n",
    "\n",
    "w0 = my_problem.w[:]\n",
    "\n",
    "t0 = 0  # Start time in hours\n",
    "tf = my_problem.sim_time  # End time in hours\n",
    "\n",
    "t_eval = np.linspace(t0, tf, 100)\n"
   ]
  },
  {
   "cell_type": "markdown",
   "id": "8a4f5711",
   "metadata": {},
   "source": [
    "### Solving"
   ]
  },
  {
   "cell_type": "code",
   "execution_count": 5,
   "id": "a359dcdc",
   "metadata": {},
   "outputs": [
    {
     "name": "stdout",
     "output_type": "stream",
     "text": [
      "Calling scipy.integrate.solve_ivp() ...\n"
     ]
    },
    {
     "name": "stderr",
     "output_type": "stream",
     "text": [
      "G:\\My Drive\\CSE\\ANMBS1\\Jupyter_Book\\ANMBS1_JB\\chapters\\one_d_problem_physics.py:21: RuntimeWarning: overflow encountered in exp\n",
      "  rh = np.exp(-p_suc / (rho_w * Rv * T_ref))\n",
      "G:\\My Drive\\CSE\\ANMBS1\\Jupyter_Book\\ANMBS1_JB\\chapters\\one_d_problem_physics.py:226: RuntimeWarning: invalid value encountered in multiply\n",
      "  dwdt[-2] += self.delta_p / self.dx**2 * (p_vap[-1] - p_vap[-2]) * self.vapour_flow_east * self.vapour_diffusion\n"
     ]
    },
    {
     "name": "stdout",
     "output_type": "stream",
     "text": [
      "time elapsed: 3.090 s\n"
     ]
    }
   ],
   "source": [
    "print('Calling scipy.integrate.solve_ivp() ...')\n",
    "start_time = time.time()\n",
    "sol = solve_ivp(my_problem.dwdt_calc, (t0, tf), w0, t_eval=t_eval, method='Radau',\n",
    "                vectorized=False, dense_output=False, atol=1e-7, rtol=1e-5)\n",
    "print(f'time elapsed: {(time.time() - start_time):.3f} s')"
   ]
  },
  {
   "cell_type": "markdown",
   "id": "6167565d",
   "metadata": {},
   "source": [
    "### Plotting\n",
    "The code below saves the animation to a file. Showing animated plots in a Jupyter Notebook turned out to be invonvenient, so it was decided to save it to a file and import a pre-calculated animation as a .gif file below."
   ]
  },
  {
   "cell_type": "code",
   "execution_count": 6,
   "id": "deaedba3",
   "metadata": {},
   "outputs": [],
   "source": [
    "import matplotlib.animation as anim\n",
    "\n",
    "\n",
    "anim_time = 8\n",
    "\n",
    "font = {'size': 14}\n",
    "matplotlib.rc('font', **font)\n",
    "\n",
    "fig, axes = plt.subplots(nrows=2, figsize=(8, 12))\n",
    "\n",
    "fps = 20\n",
    "total_frames = sol.y.shape[1]\n",
    "frame_freq = int(total_frames / (fps * anim_time)) + 1\n",
    "display_frames = [i * frame_freq for i in range(fps*anim_time) if i*frame_freq < sol.y.shape[1]]\n",
    "display_frames.append(sol.y.shape[1]-1)\n",
    "\n",
    "# setup figures (axes objects)\n",
    "axes[0].grid()\n",
    "axes[0].axis([0, 1.1 * my_problem.length, 0, 1.1 * my_problem.free_saturation])\n",
    "axes[0].set_xlabel('Discretized specimen in $m$')\n",
    "axes[0].set_ylabel('Moisture content for cell in $kg/m^3$')\n",
    "\n",
    "axes[1].grid()\n",
    "axes[1].set_xlabel('$\\sqrt{Time}$ in $\\sqrt{h}$')\n",
    "axes[1].set_ylabel('Total moisture content in $kg/m^2$')\n",
    "axes[1].axis([0, 1.1 * np.sqrt(sol.t[-1]), 0, 1.1 * max(sum(sol.y[:, 0]), sum(sol.y[:, -1])) * my_problem.dx])\n",
    "\n",
    "\n",
    "# initial states\n",
    "line1, = axes[0].plot(my_problem.x, sol.y[1:-1,0])\n",
    "t_sqrt_axis = np.sqrt(sol.t)\n",
    "line2, = axes[1].plot([t_sqrt_axis[0]], [sum(sol.y[1:-1,0] * my_problem.dx)])\n",
    "\n",
    "# animation function\n",
    "def my_animation(i):\n",
    "    line1.set_ydata(sol.y[1:-1, i])\n",
    "    line2.set_xdata(t_sqrt_axis[:i+1])\n",
    "    line2.set_ydata([sum(sol.y[1:-1,j]) * my_problem.dx for j in range(i+1)])\n",
    "\n",
    "# create animation\n",
    "ani = anim.FuncAnimation(fig, my_animation, frames=display_frames, interval=int(1000/fps))\n",
    "\n",
    "# save to file\n",
    "if True:\n",
    "    writergif = anim.PillowWriter(fps=fps)\n",
    "    ani.save('./img/animated_results.gif', writer=writergif)\n",
    "    \n",
    "plt.close()"
   ]
  },
  {
   "cell_type": "markdown",
   "id": "fb1ed991",
   "metadata": {},
   "source": [
    "### Results\n",
    "Firstly, an animation of the imbibition experiment is being shown in {numref}`Figure {number} <animated_results-fig>`. On top, the profile of the specimen is shown as it takes water in from the left hand side. The phenomenon of the moving water front can be observed by noticing the steep part of the curve moving from left to right. On the bottom the total water content of the specimen over squareroot of time is displayed, as it would be done in an imbibition experiment."
   ]
  },
  {
   "cell_type": "markdown",
   "id": "f9f8e16d",
   "metadata": {},
   "source": [
    "```{figure} ./img/animated_results_save.gif\n",
    "---\n",
    "name: animated_results-fig\n",
    "width: 600px\n",
    "align: center\n",
    "---\n",
    "Top: Moisture levels in the specimen. Bottom: total water content in the specimen.\n",
    "```"
   ]
  },
  {
   "cell_type": "markdown",
   "id": "98f0e7ae",
   "metadata": {},
   "source": [
    "Next, we check the water intake coefficient, which would be a major result of the experiment."
   ]
  },
  {
   "cell_type": "code",
   "execution_count": 7,
   "id": "e80f42d5",
   "metadata": {},
   "outputs": [
    {
     "data": {
      "text/plain": [
       "5.985540098751205"
      ]
     },
     "execution_count": 7,
     "metadata": {},
     "output_type": "execute_result"
    }
   ],
   "source": [
    "def intake_coef(sol, dx, index):\n",
    "    return (sol.y[1:-1, index+1].sum() - sol.y[1:-1, index].sum()) * dx / (np.sqrt(sol.t[index+1]) - np.sqrt(sol.t[index]))\n",
    "\n",
    "intake_coef(sol, my_problem.dx, 3)"
   ]
  },
  {
   "cell_type": "markdown",
   "id": "29bfe15e",
   "metadata": {},
   "source": [
    "This is very close to the defined intake coefficient of $A = 6\\,kg / (m^2 \\sqrt h)$."
   ]
  },
  {
   "cell_type": "markdown",
   "id": "f0efcae8",
   "metadata": {},
   "source": [
    "## Literature validation I: imbibition experiment\n",
    "In an imbibition experiment a specimen is brought into contact with water on one side. The capillary forces will make the specimen transport water into its pores. This will be modeled by creating a constantly moisture saturated material cell on the one side of the specimen. The other side is assumed to be air- and water-tight."
   ]
  },
  {
   "cell_type": "markdown",
   "id": "58e5bcbf",
   "metadata": {},
   "source": [
    "### Problem setup"
   ]
  },
  {
   "cell_type": "code",
   "execution_count": 8,
   "id": "1f8114c5",
   "metadata": {},
   "outputs": [],
   "source": [
    "val_problem = opp.one_d_problem(res=res_g, sim_time=100, material='AAC_A4_mod', init_w=0, length=.1, w_west=1, w_east=0)\n",
    "val_problem.fluid_flow_west = True\n",
    "val_problem.fluid_flow_east = False\n",
    "val_problem.vapour_flow_west = False\n",
    "val_problem.vapour_flow_east = False\n",
    "\n",
    "val_problem.liquid_conduction = True\n",
    "val_problem.vapour_diffusion = True\n",
    "\n",
    "t0 = 0  # Start time in hours\n",
    "tf = val_problem.sim_time  # End time in hours\n",
    "t_eval = np.linspace(t0, tf, 100)\n",
    "w0 = val_problem.w[:]"
   ]
  },
  {
   "cell_type": "markdown",
   "id": "58ce17ab",
   "metadata": {},
   "source": [
    "### Solving"
   ]
  },
  {
   "cell_type": "code",
   "execution_count": 9,
   "id": "c3bdf662",
   "metadata": {},
   "outputs": [
    {
     "name": "stdout",
     "output_type": "stream",
     "text": [
      "Calling scipy.integrate.solve_ivp() ...\n"
     ]
    },
    {
     "name": "stderr",
     "output_type": "stream",
     "text": [
      "G:\\My Drive\\CSE\\ANMBS1\\Jupyter_Book\\ANMBS1_JB\\chapters\\one_d_problem_physics.py:21: RuntimeWarning: overflow encountered in exp\n",
      "  rh = np.exp(-p_suc / (rho_w * Rv * T_ref))\n",
      "G:\\My Drive\\CSE\\ANMBS1\\Jupyter_Book\\ANMBS1_JB\\chapters\\one_d_problem_physics.py:226: RuntimeWarning: invalid value encountered in multiply\n",
      "  dwdt[-2] += self.delta_p / self.dx**2 * (p_vap[-1] - p_vap[-2]) * self.vapour_flow_east * self.vapour_diffusion\n"
     ]
    },
    {
     "name": "stdout",
     "output_type": "stream",
     "text": [
      "time elapsed: 3.042 s\n"
     ]
    }
   ],
   "source": [
    "print('Calling scipy.integrate.solve_ivp() ...')\n",
    "start_time = time.time()\n",
    "val_sol = solve_ivp(val_problem.dwdt_calc, (t0, tf), w0, t_eval=t_eval, method='Radau',\n",
    "                vectorized=False, dense_output=False, atol=1e-7, rtol=1e-5)\n",
    "print(f'time elapsed: {(time.time() - start_time):.3f} s')\n"
   ]
  },
  {
   "cell_type": "markdown",
   "id": "2d7b4f43",
   "metadata": {},
   "source": [
    "### Plotting"
   ]
  },
  {
   "cell_type": "code",
   "execution_count": 10,
   "id": "57921e74",
   "metadata": {},
   "outputs": [],
   "source": [
    "fig = plt.figure()\n",
    "plt.plot(val_problem.x, val_sol.y[1:-1,1], label=\"1 h\")\n",
    "plt.plot(val_problem.x, val_sol.y[1:-1,24], label=\"24 h\")\n",
    "plt.plot(val_problem.x, val_sol.y[1:-1,48], label=\">48 h\")\n",
    "plt.legend()\n",
    "plt.grid()\n",
    "plt.xlabel('specimen length in $m$')\n",
    "plt.ylabel('water content in $kg/m^3$')\n",
    "fig.savefig(\"./img/val_results1.png\")\n",
    "plt.close()"
   ]
  },
  {
   "cell_type": "markdown",
   "id": "13e0f307",
   "metadata": {},
   "source": [
    "```{figure} ./img/val_results1.png\n",
    "---\n",
    "name: val_results1-fig\n",
    "width: 500px\n",
    "align: center\n",
    "---\n",
    "Final moisture levels in the specimen for different imbibition experiment durations. \n",
    "```\n"
   ]
  },
  {
   "cell_type": "markdown",
   "id": "96efce78",
   "metadata": {},
   "source": [
    "Comparing this with the literature shows good agreement of the results."
   ]
  },
  {
   "cell_type": "markdown",
   "id": "382117e0",
   "metadata": {},
   "source": [
    "```{figure} ./img/A4_imbibition.jpg\n",
    "---\n",
    "name: A4_imbibition-fig\n",
    "width: 400px\n",
    "align: center\n",
    "---\n",
    "Literature results of imbibition experiment show good agreement. (source: {cite}`A4`)\n",
    "```\n"
   ]
  },
  {
   "cell_type": "markdown",
   "id": "06670805",
   "metadata": {},
   "source": [
    "## Literature validation II: drying experiment\n",
    "In the drying experiment the specimen starts with a certain moisture and is exposed to a room with a certain temperature and moisture (here we use $T=23°C$ and $\\varphi=50%$). Liquid water will not be allowed to flow to the room, but vapor can diffuse. This situation will be modeled by creating a material cell, that has vapor pressure of that air. The diffusion coefficient for passing into the material cell is not quite the same as it would be for passing from the surface of the specimen into the room. This difference will be neglected here. \n",
    "\n",
    "The other side will be assumed to be air- and water-tight."
   ]
  },
  {
   "cell_type": "markdown",
   "id": "127fffeb",
   "metadata": {},
   "source": [
    "### Problem setup"
   ]
  },
  {
   "cell_type": "code",
   "execution_count": 11,
   "id": "9ebeda66",
   "metadata": {},
   "outputs": [],
   "source": [
    "# drying...\n",
    "# ------------\n",
    "\n",
    "# calculate P_suc and w for 23°C, 50%rH:\n",
    "P_suc_west = opp.p_suc_kelvin_calc(0.5)\n",
    "\n",
    "\n",
    "vval_problem = opp.one_d_problem(res=res_g, sim_time=100, material='AAC_A4_mod', init_w=0, length=.1, w_west=0, w_east=0)\n",
    "w_sat = vval_problem.free_saturation\n",
    "w_west = vval_problem.w_calc(P_suc_west) / w_sat\n",
    "val_problem = opp.one_d_problem(res=res_g, sim_time=1000, material='AAC_A4_mod_dry', init_w=310/w_sat, length=.1, w_west=w_west, w_east=0)\n",
    "\n",
    "val_problem.fluid_flow_west = False\n",
    "val_problem.fluid_flow_east = False\n",
    "val_problem.vapour_flow_west = True\n",
    "val_problem.vapour_flow_east = False\n",
    "\n",
    "val_problem.liquid_conduction = True\n",
    "val_problem.vapour_diffusion = True\n",
    "\n",
    "t0 = 0  # Start time in hours\n",
    "tf = val_problem.sim_time  # End time in hours\n",
    "t_eval = np.linspace(t0, tf, 1000)\n",
    "w0 = val_problem.w[:]\n"
   ]
  },
  {
   "cell_type": "markdown",
   "id": "0ec36918",
   "metadata": {},
   "source": [
    "### Solving"
   ]
  },
  {
   "cell_type": "code",
   "execution_count": 12,
   "id": "e9a1230f",
   "metadata": {},
   "outputs": [
    {
     "name": "stdout",
     "output_type": "stream",
     "text": [
      "Calling scipy.integrate.solve_ivp() ...\n",
      "time elapsed: 0.721 s\n"
     ]
    }
   ],
   "source": [
    "print('Calling scipy.integrate.solve_ivp() ...')\n",
    "start_time = time.time()\n",
    "val_sol = solve_ivp(val_problem.dwdt_calc, (t0, tf), w0, t_eval=t_eval, method='Radau',\n",
    "                vectorized=False, dense_output=False, atol=1e-7, rtol=1e-5)\n",
    "print(f'time elapsed: {(time.time() - start_time):.3f} s')"
   ]
  },
  {
   "cell_type": "markdown",
   "id": "14f1d51d",
   "metadata": {},
   "source": [
    "### Plotting"
   ]
  },
  {
   "cell_type": "code",
   "execution_count": 13,
   "id": "7b55136a",
   "metadata": {},
   "outputs": [],
   "source": [
    "fig = plt.figure()\n",
    "plt.plot(val_problem.x, val_sol.y[1:-1, 1], label=\"1 h\")\n",
    "plt.plot(val_problem.x, val_sol.y[1:-1, 16], label=\"16 h\")\n",
    "plt.plot(val_problem.x, val_sol.y[1:-1, 42], label=\"42 h\")\n",
    "plt.plot(val_problem.x, val_sol.y[1:-1, 120], label=\"120 h\")\n",
    "plt.plot(val_problem.x, val_sol.y[1:-1, 257], label=\"257 h\")\n",
    "plt.plot(val_problem.x, val_sol.y[1:-1, 664], label=\"664 h\")\n",
    "plt.legend()\n",
    "plt.grid()\n",
    "plt.xlabel('specimen length in $m$')\n",
    "plt.ylabel('water content in $kg/m^3$')\n",
    "fig.savefig(\"./img/val_results2.png\")\n",
    "plt.close()"
   ]
  },
  {
   "cell_type": "markdown",
   "id": "e2ca82a9",
   "metadata": {},
   "source": [
    "```{figure} ./img/val_results2.png\n",
    "---\n",
    "name: val_results2-fig\n",
    "width: 500px\n",
    "align: center\n",
    "---\n",
    "Final moisture levels in the specimen for different drying experiment durations.\n",
    "```"
   ]
  },
  {
   "cell_type": "markdown",
   "id": "2e300128",
   "metadata": {},
   "source": [
    "Comparing this to the literature, we see that the results are in accordance with {cite}`A4`, if the starting point is considered to be the $80h$ mark in the figure below. The process before $80h$ is determined by a model describing porous material, that is moist beyond capillary saturation, which is out of scope of this project:"
   ]
  },
  {
   "cell_type": "markdown",
   "id": "85a2d83b",
   "metadata": {},
   "source": [
    "```{figure} ./img/A4_drying.jpg\n",
    "---\n",
    "name: A4_drying-fig\n",
    "width: 400px\n",
    "align: center\n",
    "---\n",
    "Literature results of drying experiment show good agreement. (source: {cite}`A4`)\n",
    "```"
   ]
  },
  {
   "cell_type": "markdown",
   "id": "39410d1e",
   "metadata": {},
   "source": [
    "## Conclusion\n",
    "The implemented model neglects some physical phenomena:\n",
    "* gravity\n",
    "* vapor diffusion on the boundary of the domain is modelled as diffusion inside the material, even in the drying experiment, where it is actually surface diffusion of vapor.\n",
    "\n",
    "The results are still satisfactory, since:\n",
    "* Literature validation shows good agreement.\n",
    "* The water intake coefficient is reproduced very accurately.\n",
    "* The moving water front is reproduced.\n",
    "\n"
   ]
  },
  {
   "cell_type": "code",
   "execution_count": null,
   "id": "3ce2dc7b",
   "metadata": {},
   "outputs": [],
   "source": []
  }
 ],
 "metadata": {
  "kernelspec": {
   "display_name": "Python 3 (ipykernel)",
   "language": "python",
   "name": "python3"
  },
  "language_info": {
   "codemirror_mode": {
    "name": "ipython",
    "version": 3
   },
   "file_extension": ".py",
   "mimetype": "text/x-python",
   "name": "python",
   "nbconvert_exporter": "python",
   "pygments_lexer": "ipython3",
   "version": "3.7.9"
  }
 },
 "nbformat": 4,
 "nbformat_minor": 5
}
