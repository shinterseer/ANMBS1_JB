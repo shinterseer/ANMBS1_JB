{
 "cells": [
  {
   "cell_type": "markdown",
   "id": "ce08d2c8",
   "metadata": {},
   "source": [
    "# Benchmarks\n",
    "there will be benchmarks"
   ]
  },
  {
   "cell_type": "code",
   "execution_count": 1,
   "id": "27d5b306",
   "metadata": {},
   "outputs": [
    {
     "data": {
      "text/plain": [
       "2"
      ]
     },
     "execution_count": 1,
     "metadata": {},
     "output_type": "execute_result"
    }
   ],
   "source": [
    "# this is a jupyter nb\n",
    "x=1\n",
    "2*x"
   ]
  },
  {
   "cell_type": "code",
   "execution_count": null,
   "id": "595cd071",
   "metadata": {},
   "outputs": [],
   "source": []
  }
 ],
 "metadata": {
  "kernelspec": {
   "display_name": "Python 3 (ipykernel)",
   "language": "python",
   "name": "python3"
  },
  "language_info": {
   "codemirror_mode": {
    "name": "ipython",
    "version": 3
   },
   "file_extension": ".py",
   "mimetype": "text/x-python",
   "name": "python",
   "nbconvert_exporter": "python",
   "pygments_lexer": "ipython3",
   "version": "3.7.9"
  }
 },
 "nbformat": 4,
 "nbformat_minor": 5
}
